{
 "cells": [
  {
   "cell_type": "markdown",
   "id": "35655da6-9caf-46ab-a552-651c8d7227da",
   "metadata": {},
   "source": [
    "Q1. Explain Class and Object with respect to Object-Oriented Programming. Give a suitable example."
   ]
  },
  {
   "cell_type": "code",
   "execution_count": 1,
   "id": "b03e6dc3-55d2-473c-9c52-91632b82c27f",
   "metadata": {},
   "outputs": [],
   "source": [
    "##Classes are user-defined data types that act as the blueprint for individual objects, attributes and methods.\n",
    "##Objects are instances of a class created with specifically defined data. Objects can correspond to real-world objects or an abstract entity.\n",
    "class person:\n",
    "    \n",
    "    def __init__(self, gender, age, city):\n",
    "        self.gender = gender\n",
    "        self.age = age\n",
    "        self.city = city\n",
    "    \n",
    "    def return_person_details(self):\n",
    "        return self.gender, self.age, self.city"
   ]
  },
  {
   "cell_type": "code",
   "execution_count": 2,
   "id": "924d3999-cd25-4a3e-97d5-cadb6b5af9d0",
   "metadata": {},
   "outputs": [],
   "source": [
    "rohan = person(\"male\", 28, \"delhi\")"
   ]
  },
  {
   "cell_type": "code",
   "execution_count": 3,
   "id": "5f66a892-e083-49af-9699-d89b8e7c38a8",
   "metadata": {},
   "outputs": [
    {
     "data": {
      "text/plain": [
       "('male', 28, 'delhi')"
      ]
     },
     "execution_count": 3,
     "metadata": {},
     "output_type": "execute_result"
    }
   ],
   "source": [
    "rohan.return_person_details()"
   ]
  },
  {
   "cell_type": "markdown",
   "id": "2339ed0f-e022-441f-8934-31963211e6fc",
   "metadata": {},
   "source": [
    "Q2. Name the four pillars of OOPs."
   ]
  },
  {
   "cell_type": "code",
   "execution_count": 4,
   "id": "c74bccc8-53df-4a48-b806-b275a49e25f3",
   "metadata": {},
   "outputs": [],
   "source": [
    "## Ans. 1.Abstraction- Quite simply, abstraction is the concept of wrapping up complex actions in simple verbs.\n",
    "##      Describe each thing you’ve abstracted clearly, and hide the complexity. Someone can always pop the hood if they need to.\n",
    "##    2.Encapsulation- As much as you can, keep state and logic internal. This can mean have as few attr readers as possible,\n",
    "##     or as few instance vars as possible.\n",
    "##      The less you have to keep track off at any given time, the better.\n",
    "##   3.Inheritance- Classes can have parent classes. Child classes will inherit all of the behavior and attributes of the parent class.\n",
    "##    Child classes can then choose to overwrite some of those as necessary.\n",
    "##   4.Polymorphism- Defined as “the condition of occurring in several different forms”. Basically, it just means that we can call the \n",
    "##      same method on different objects."
   ]
  },
  {
   "cell_type": "markdown",
   "id": "2c391465-8b50-4918-bdae-f418a00c39e8",
   "metadata": {},
   "source": [
    "Q3. Explain why the __init__() function is used. Give a suitable example."
   ]
  },
  {
   "cell_type": "code",
   "execution_count": 7,
   "id": "69c46864-7355-4f04-92fb-24825c871cea",
   "metadata": {},
   "outputs": [],
   "source": [
    "class persons:\n",
    "    def __init__(self, Arguments):\n",
    "        pass\n",
    "##As the above example explains, __init__ is a special python method that runs whenever a new object is created. These types of function\n",
    "##are used to initialize the attributes of that class, E.g., if the class is Person, then the attributes will be name, age, etc."
   ]
  },
  {
   "cell_type": "markdown",
   "id": "d83f0b56-ea99-457b-b393-1e1e0126172d",
   "metadata": {},
   "source": [
    "Q4. Why self is used in OOPs?"
   ]
  },
  {
   "cell_type": "code",
   "execution_count": 8,
   "id": "490df2cf-ead9-4969-8f41-505a177ab34a",
   "metadata": {},
   "outputs": [],
   "source": [
    "##The use of self makes it easier to distinguish between instance attributes (and methods) from local variables. In the first example, self.\n",
    "## x is an instance attribute whereas x is a local variable."
   ]
  },
  {
   "cell_type": "markdown",
   "id": "94326f2c-680d-451f-9330-065a1a3a179f",
   "metadata": {},
   "source": [
    "Q5. What is inheritance? Give an example for each type of inheritance."
   ]
  },
  {
   "cell_type": "code",
   "execution_count": 16,
   "id": "20ec8229-66e0-41b7-bcda-10ec8697d18e",
   "metadata": {},
   "outputs": [
    {
     "name": "stdout",
     "output_type": "stream",
     "text": [
      "This function is in parent class.\n",
      "This function is in child class.\n",
      "Father : RAM\n",
      "Mother : SITA\n",
      "Lal mani\n",
      "Grandfather name : Lal mani\n",
      "Father name : Rampal\n",
      "Son name : Prince\n",
      "This function is in parent class.\n",
      "This function is in child 1.\n",
      "This function is in parent class.\n",
      "This function is in child 2.\n"
     ]
    }
   ],
   "source": [
    "##Inheritance is defined as the mechanism of inheriting the properties of the base class to the child class.\n",
    "##Here we a going to see the types of inheritance in Python.\n",
    "##1. Single inheritance enables a derived class to inherit properties from a single parent class, \n",
    "##   thus enabling code reusability and the addition of new features to existing code.\n",
    "class Parent:\n",
    "    def func1(self):\n",
    "        print(\"This function is in parent class.\")\n",
    "\n",
    "class Child(Parent):\n",
    "    def func2(self):\n",
    "        print(\"This function is in child class.\")\n",
    "        \n",
    "object = Child()\n",
    "object.func1()\n",
    "object.func2()\n",
    "\n",
    "##2. Multiple Inheritance: \n",
    "##When a class can be derived from more than one base class this type of inheritance is called multiple inheritances.\n",
    "##In multiple inheritances, all the features of the base classes are inherited into the derived class. \n",
    "class Mother:\n",
    "    mothername = \"\"\n",
    " \n",
    "    def mother(self):\n",
    "        print(self.mothername)\n",
    "        \n",
    "class Father:\n",
    "    fathername = \"\"\n",
    " \n",
    "    def father(self):\n",
    "        print(self.fathername)\n",
    "        \n",
    "class Son(Mother, Father):\n",
    "    def parents(self):\n",
    "        print(\"Father :\", self.fathername)\n",
    "        print(\"Mother :\", self.mothername)\n",
    "s1 = Son()\n",
    "s1.fathername = \"RAM\"\n",
    "s1.mothername = \"SITA\"\n",
    "s1.parents()\n",
    "\n",
    "##3.Multilevel Inheritance :\n",
    "##In multilevel inheritance, features of the base class and the derived class are further inherited into the new derived class.\n",
    "##This is similar to a relationship representing a child and a grandfather.  \n",
    "class Grandfather:\n",
    " \n",
    "    def __init__(self, grandfathername):\n",
    "        self.grandfathername = grandfathername\n",
    "\n",
    "class Father(Grandfather):\n",
    "    def __init__(self, fathername, grandfathername):\n",
    "        self.fathername = fathername \n",
    "        Grandfather.__init__(self, grandfathername)\n",
    "\n",
    "class Son(Father):\n",
    "    def __init__(self, sonname, fathername, grandfathername):\n",
    "        self.sonname = sonname\n",
    "        Father.__init__(self, fathername, grandfathername)\n",
    "        \n",
    "    def print_name(self):\n",
    "        print('Grandfather name :', self.grandfathername)\n",
    "        print(\"Father name :\", self.fathername)\n",
    "        print(\"Son name :\", self.sonname)\n",
    "s1 = Son('Prince', 'Rampal', 'Lal mani')\n",
    "print(s1.grandfathername)\n",
    "s1.print_name()\n",
    "\n",
    "##4. Hierarchical Inheritance: \n",
    "##When more than one derived class are created from a single base this type of inheritance is called hierarchical inheritance.\n",
    "##In this program, we have a parent (base) class and two child (derived) classes.\n",
    "class Parent:\n",
    "    def func1(self):\n",
    "        print(\"This function is in parent class.\")\n",
    "\n",
    "class Child1(Parent):\n",
    "    def func2(self):\n",
    "        print(\"This function is in child 1.\")\n",
    "class Child2(Parent):\n",
    "    def func3(self):\n",
    "        print(\"This function is in child 2.\")\n",
    "\n",
    "object1 = Child1()\n",
    "object2 = Child2()\n",
    "object1.func1()\n",
    "object1.func2()\n",
    "object2.func1()\n",
    "object2.func3()\n",
    "\n",
    "##5.Hybrid Inheritance: \n",
    "##Inheritance consisting of multiple types of inheritance is called hybrid inheritance.\n",
    "class School:\n",
    "    def func1(self):\n",
    "        print(\"This function is in school.\")"
   ]
  },
  {
   "cell_type": "code",
   "execution_count": null,
   "id": "2523c041-625e-4335-beff-6e514de4572a",
   "metadata": {},
   "outputs": [],
   "source": []
  }
 ],
 "metadata": {
  "kernelspec": {
   "display_name": "Python 3 (ipykernel)",
   "language": "python",
   "name": "python3"
  },
  "language_info": {
   "codemirror_mode": {
    "name": "ipython",
    "version": 3
   },
   "file_extension": ".py",
   "mimetype": "text/x-python",
   "name": "python",
   "nbconvert_exporter": "python",
   "pygments_lexer": "ipython3",
   "version": "3.10.6"
  }
 },
 "nbformat": 4,
 "nbformat_minor": 5
}
